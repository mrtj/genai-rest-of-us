{
 "cells": [
  {
   "cell_type": "markdown",
   "metadata": {},
   "source": [
    "# Hands-on Stable Diffusion\n",
    "\n",
    "This page provides you with guide lines on how to start using Stable Diffusion WebUI, a web application that lets you easily interact with Stable Diffusion image generation model family.\n",
    "\n",
    "The objective of this demo is to generate marketing images of a particular furniture piece, an elegant brown sofa. We have one original image of the sofa:\n",
    "\n",
    "![Original sofa](./img/sd-webui/originale512.jpg \"Original sofa\")\n",
    "\n",
    "We are asked to change the background of the sofa, effectively placing it into different contexts like a seaside holiday home, a New York apartment or a mountain hut.\n",
    "\n",
    "Example outputs:\n",
    "\n",
    "| Seaside home | New York | Mountain hut |\n",
    "|--------------|----------|--------------|\n",
    "| <img src=\"./img/sd-webui/mare3.jpeg\" width=\"250\" alt=\"Seaside home\"> | <img src=\"./img/sd-webui/new_york1.jpg\" width=\"250\" alt=\"Seaside home\"> | <img src=\"./img/sd-webui/rifugio3.jpg\" width=\"250\" alt=\"Seaside home\"> |\n",
    "\n",
    "We will use a technique called *inpainting* to achieve these results. Inpainting instructs the image generation model to leave some parts of an original image intact, and modify only certain parts (in our case the background) according to the provided prompt."
   ]
  },
  {
   "cell_type": "markdown",
   "metadata": {},
   "source": [
    "## Installation\n",
    "\n",
    "1. Install Stable Diffusion Web UI as described in their [github page](https://github.com/AUTOMATIC1111/stable-diffusion-webui).\n",
    "2. Install [Inpaint Anything extension](https://github.com/Uminosachi/sd-webui-inpaint-anything) for the Web UI.\n",
    "\n",
    "Note: the Inpaint Anything extension makes it easier to create inpaint masks of input images.\n"
   ]
  },
  {
   "cell_type": "markdown",
   "metadata": {},
   "source": [
    "## Stable Diffusion Web UI how-to\n",
    "\n",
    "Start Stable Diffusion Web UI with `webui.sh` or `webui-user.bat` as described on their github page. Open a browser window and type the url http://localhost:7860 in the navigation bar. A web page similar to this one will load:\n",
    "\n",
    "![SD WebUI landing](./img/sd-webui/sd-webui-landing.png \"SD WebUI landing\")\n",
    "\n",
    "Click on the \"Inpaint Anything\" tab:\n",
    "\n",
    "![SD WebUI Inpaint Anything](./img/sd-webui/sd-webui-inpaint.png \"SD WebUI Inpaint Anything\")\n",
    "\n",
    "Upload the original image of the sofa in the \"Input image\" slot and click \"Run Segment Anything\". The first time you do this, the pre-trained segment anything model will be downloaded to your workstation. Successive requests will reuse the downloaded model.\n",
    "\n",
    "![SD WebUI Segments](./img/sd-webui/sd-webui-segments.png \"SD WebUI Segments\")\n",
    "\n",
    "The Segment Anything model identifies semantic segments of the image, making it much more easy to draw the inpaint mask. The only thing you have to do is to mark the segments of the sofa with the paint brush. Check also the \"Invert mask\" checkbox and click \"Create mask\".\n",
    "\n",
    "<img src=\"./img/sd-webui/sd-webui-selected.png \" width=\"500\" alt=\"SD WebUI Selected segments\">\n",
    "\n",
    "Scroll down to the \"Inpainting\" tab and enter the following prompt to the \"Inpainting Prompt\" text field:\n",
    "\n",
    "`(((seaside holiday home with sea view window))) background, very high detailing, sharp focus, natural lighting, (((photorealistic))), > HDR, high contrast`\n",
    "\n",
    "And this text to the \"Negative Prompt\" text field:\n",
    "\n",
    "`((unrealistic)), digital art, blur, deformed objects, broken buildings, low quality, worst quality`\n",
    "\n",
    "Click on \"Run Inpainting\". As before, the first time you run the inpainting, the model will be downloaded. Successive runs will be faster: it takes approximately 10-15s to generate an image with the predefined settings, having a GPU installed in the system.\n",
    "\n",
    "![SD WebUI Inpainting result](./img/sd-webui/sd-webui-result.png \"SD WebUI Inpainting result\")"
   ]
  },
  {
   "cell_type": "markdown",
   "metadata": {},
   "source": [
    "Try playing with the prompts, change inpainting model, or other settings. The vast amount of options Using Stable Diffusion WebUI provides have created an ecosystem of blogs, tutorials and tips-and-tricks about both efficient SD prompting, as well as fine-tuning the parameters for even better results."
   ]
  }
 ],
 "metadata": {
  "kernelspec": {
   "display_name": "genai-rest-of-us",
   "language": "python",
   "name": "python3"
  },
  "language_info": {
   "codemirror_mode": {
    "name": "ipython",
    "version": 3
   },
   "file_extension": ".py",
   "mimetype": "text/x-python",
   "name": "python",
   "nbconvert_exporter": "python",
   "pygments_lexer": "ipython3",
   "version": "3.10.13"
  }
 },
 "nbformat": 4,
 "nbformat_minor": 2
}
